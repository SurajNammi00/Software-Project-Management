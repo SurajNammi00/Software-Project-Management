{
 "cells": [
  {
   "cell_type": "code",
   "execution_count": 1,
   "id": "fe824797",
   "metadata": {},
   "outputs": [],
   "source": [
    "import os\n",
    "\n",
    "import _pickle as pickle\n",
    "\n",
    "import pandas as pd                                    # panda's nickname is pd\n",
    "\n",
    "import numpy as np                                     # numpy as np\n",
    "\n",
    "from pandas import DataFrame, Series                   # for convenience\n",
    "\n",
    "import matplotlib.pyplot as plt\n"
   ]
  },
  {
   "cell_type": "code",
   "execution_count": 2,
   "id": "1ba0786c",
   "metadata": {},
   "outputs": [],
   "source": [
    "#reading the Matrix using Pandas\n",
    "df=pd.read_csv('data.csv')"
   ]
  },
  {
   "cell_type": "code",
   "execution_count": 3,
   "id": "77a2c2cc",
   "metadata": {},
   "outputs": [
    {
     "data": {
      "text/html": [
       "<div>\n",
       "<style scoped>\n",
       "    .dataframe tbody tr th:only-of-type {\n",
       "        vertical-align: middle;\n",
       "    }\n",
       "\n",
       "    .dataframe tbody tr th {\n",
       "        vertical-align: top;\n",
       "    }\n",
       "\n",
       "    .dataframe thead th {\n",
       "        text-align: right;\n",
       "    }\n",
       "</style>\n",
       "<table border=\"1\" class=\"dataframe\">\n",
       "  <thead>\n",
       "    <tr style=\"text-align: right;\">\n",
       "      <th></th>\n",
       "      <th>Fields</th>\n",
       "      <th>Requirement</th>\n",
       "      <th>Analysis</th>\n",
       "      <th>Design</th>\n",
       "      <th>Coding</th>\n",
       "      <th>Unit Testing</th>\n",
       "      <th>Integration Testing</th>\n",
       "      <th>System Testing</th>\n",
       "      <th>Field</th>\n",
       "      <th>Index</th>\n",
       "    </tr>\n",
       "  </thead>\n",
       "  <tbody>\n",
       "    <tr>\n",
       "      <th>0</th>\n",
       "      <td>Requirement</td>\n",
       "      <td>81</td>\n",
       "      <td>NaN</td>\n",
       "      <td>NaN</td>\n",
       "      <td>NaN</td>\n",
       "      <td>NaN</td>\n",
       "      <td>NaN</td>\n",
       "      <td>NaN</td>\n",
       "      <td>NaN</td>\n",
       "      <td>1</td>\n",
       "    </tr>\n",
       "    <tr>\n",
       "      <th>1</th>\n",
       "      <td>Analysis</td>\n",
       "      <td>21</td>\n",
       "      <td>29.0</td>\n",
       "      <td>NaN</td>\n",
       "      <td>NaN</td>\n",
       "      <td>NaN</td>\n",
       "      <td>NaN</td>\n",
       "      <td>NaN</td>\n",
       "      <td>NaN</td>\n",
       "      <td>2</td>\n",
       "    </tr>\n",
       "    <tr>\n",
       "      <th>2</th>\n",
       "      <td>Design</td>\n",
       "      <td>17</td>\n",
       "      <td>17.0</td>\n",
       "      <td>102.0</td>\n",
       "      <td>NaN</td>\n",
       "      <td>NaN</td>\n",
       "      <td>NaN</td>\n",
       "      <td>NaN</td>\n",
       "      <td>NaN</td>\n",
       "      <td>3</td>\n",
       "    </tr>\n",
       "    <tr>\n",
       "      <th>3</th>\n",
       "      <td>Coding</td>\n",
       "      <td>36</td>\n",
       "      <td>19.0</td>\n",
       "      <td>55.0</td>\n",
       "      <td>402.0</td>\n",
       "      <td>NaN</td>\n",
       "      <td>NaN</td>\n",
       "      <td>NaN</td>\n",
       "      <td>NaN</td>\n",
       "      <td>4</td>\n",
       "    </tr>\n",
       "    <tr>\n",
       "      <th>4</th>\n",
       "      <td>Unit Testing</td>\n",
       "      <td>12</td>\n",
       "      <td>35.0</td>\n",
       "      <td>8.0</td>\n",
       "      <td>156.0</td>\n",
       "      <td>51</td>\n",
       "      <td>NaN</td>\n",
       "      <td>NaN</td>\n",
       "      <td>NaN</td>\n",
       "      <td>5</td>\n",
       "    </tr>\n",
       "  </tbody>\n",
       "</table>\n",
       "</div>"
      ],
      "text/plain": [
       "         Fields  Requirement  Analysis  Design  Coding Unit Testing  \\\n",
       "0   Requirement           81       NaN     NaN     NaN          NaN   \n",
       "1      Analysis           21      29.0     NaN     NaN          NaN   \n",
       "2        Design           17      17.0   102.0     NaN          NaN   \n",
       "3        Coding           36      19.0    55.0   402.0          NaN   \n",
       "4  Unit Testing           12      35.0     8.0   156.0           51   \n",
       "\n",
       "  Integration Testing System Testing  Field  Index  \n",
       "0                 NaN            NaN    NaN      1  \n",
       "1                 NaN            NaN    NaN      2  \n",
       "2                 NaN            NaN    NaN      3  \n",
       "3                 NaN            NaN    NaN      4  \n",
       "4                 NaN            NaN    NaN      5  "
      ]
     },
     "execution_count": 3,
     "metadata": {},
     "output_type": "execute_result"
    }
   ],
   "source": [
    "#printing first 5 rows of matrix\n",
    "df.head()"
   ]
  },
  {
   "cell_type": "code",
   "execution_count": 4,
   "id": "a1c7a63e",
   "metadata": {},
   "outputs": [
    {
     "data": {
      "text/html": [
       "<div>\n",
       "<style scoped>\n",
       "    .dataframe tbody tr th:only-of-type {\n",
       "        vertical-align: middle;\n",
       "    }\n",
       "\n",
       "    .dataframe tbody tr th {\n",
       "        vertical-align: top;\n",
       "    }\n",
       "\n",
       "    .dataframe thead th {\n",
       "        text-align: right;\n",
       "    }\n",
       "</style>\n",
       "<table border=\"1\" class=\"dataframe\">\n",
       "  <thead>\n",
       "    <tr style=\"text-align: right;\">\n",
       "      <th></th>\n",
       "      <th>Fields</th>\n",
       "      <th>Requirement</th>\n",
       "      <th>Analysis</th>\n",
       "      <th>Design</th>\n",
       "      <th>Coding</th>\n",
       "      <th>Unit Testing</th>\n",
       "      <th>Integration Testing</th>\n",
       "      <th>System Testing</th>\n",
       "      <th>Field</th>\n",
       "      <th>Index</th>\n",
       "    </tr>\n",
       "  </thead>\n",
       "  <tbody>\n",
       "    <tr>\n",
       "      <th>0</th>\n",
       "      <td>Requirement</td>\n",
       "      <td>81</td>\n",
       "      <td>0.0</td>\n",
       "      <td>0.0</td>\n",
       "      <td>0.0</td>\n",
       "      <td>0</td>\n",
       "      <td>0</td>\n",
       "      <td>0</td>\n",
       "      <td>0.0</td>\n",
       "      <td>1</td>\n",
       "    </tr>\n",
       "    <tr>\n",
       "      <th>1</th>\n",
       "      <td>Analysis</td>\n",
       "      <td>21</td>\n",
       "      <td>29.0</td>\n",
       "      <td>0.0</td>\n",
       "      <td>0.0</td>\n",
       "      <td>0</td>\n",
       "      <td>0</td>\n",
       "      <td>0</td>\n",
       "      <td>0.0</td>\n",
       "      <td>2</td>\n",
       "    </tr>\n",
       "    <tr>\n",
       "      <th>2</th>\n",
       "      <td>Design</td>\n",
       "      <td>17</td>\n",
       "      <td>17.0</td>\n",
       "      <td>102.0</td>\n",
       "      <td>0.0</td>\n",
       "      <td>0</td>\n",
       "      <td>0</td>\n",
       "      <td>0</td>\n",
       "      <td>0.0</td>\n",
       "      <td>3</td>\n",
       "    </tr>\n",
       "    <tr>\n",
       "      <th>3</th>\n",
       "      <td>Coding</td>\n",
       "      <td>36</td>\n",
       "      <td>19.0</td>\n",
       "      <td>55.0</td>\n",
       "      <td>402.0</td>\n",
       "      <td>0</td>\n",
       "      <td>0</td>\n",
       "      <td>0</td>\n",
       "      <td>0.0</td>\n",
       "      <td>4</td>\n",
       "    </tr>\n",
       "    <tr>\n",
       "      <th>4</th>\n",
       "      <td>Unit Testing</td>\n",
       "      <td>12</td>\n",
       "      <td>35.0</td>\n",
       "      <td>8.0</td>\n",
       "      <td>156.0</td>\n",
       "      <td>51</td>\n",
       "      <td>0</td>\n",
       "      <td>0</td>\n",
       "      <td>0.0</td>\n",
       "      <td>5</td>\n",
       "    </tr>\n",
       "    <tr>\n",
       "      <th>5</th>\n",
       "      <td>Integration Testing</td>\n",
       "      <td>7</td>\n",
       "      <td>15.0</td>\n",
       "      <td>7.0</td>\n",
       "      <td>27.0</td>\n",
       "      <td>-</td>\n",
       "      <td>3</td>\n",
       "      <td>0</td>\n",
       "      <td>0.0</td>\n",
       "      <td>6</td>\n",
       "    </tr>\n",
       "    <tr>\n",
       "      <th>6</th>\n",
       "      <td>System Testing</td>\n",
       "      <td>14</td>\n",
       "      <td>39.0</td>\n",
       "      <td>5.0</td>\n",
       "      <td>23.0</td>\n",
       "      <td>-</td>\n",
       "      <td>-</td>\n",
       "      <td>3</td>\n",
       "      <td>0.0</td>\n",
       "      <td>7</td>\n",
       "    </tr>\n",
       "    <tr>\n",
       "      <th>7</th>\n",
       "      <td>Field</td>\n",
       "      <td>3</td>\n",
       "      <td>2.0</td>\n",
       "      <td>2.0</td>\n",
       "      <td>7.0</td>\n",
       "      <td>-</td>\n",
       "      <td>-</td>\n",
       "      <td>-</td>\n",
       "      <td>7.0</td>\n",
       "      <td>8</td>\n",
       "    </tr>\n",
       "  </tbody>\n",
       "</table>\n",
       "</div>"
      ],
      "text/plain": [
       "                Fields  Requirement  Analysis  Design  Coding Unit Testing  \\\n",
       "0          Requirement           81       0.0     0.0     0.0            0   \n",
       "1             Analysis           21      29.0     0.0     0.0            0   \n",
       "2               Design           17      17.0   102.0     0.0            0   \n",
       "3               Coding           36      19.0    55.0   402.0            0   \n",
       "4         Unit Testing           12      35.0     8.0   156.0           51   \n",
       "5  Integration Testing            7      15.0     7.0    27.0            -   \n",
       "6       System Testing           14      39.0     5.0    23.0            -   \n",
       "7                Field            3       2.0     2.0     7.0            -   \n",
       "\n",
       "  Integration Testing System Testing  Field  Index  \n",
       "0                   0              0    0.0      1  \n",
       "1                   0              0    0.0      2  \n",
       "2                   0              0    0.0      3  \n",
       "3                   0              0    0.0      4  \n",
       "4                   0              0    0.0      5  \n",
       "5                   3              0    0.0      6  \n",
       "6                   -              3    0.0      7  \n",
       "7                   -              -    7.0      8  "
      ]
     },
     "execution_count": 4,
     "metadata": {},
     "output_type": "execute_result"
    }
   ],
   "source": [
    "#Data Cleaning\n",
    "#replacing NaN values with 0\n",
    "df.fillna(0)"
   ]
  },
  {
   "cell_type": "code",
   "execution_count": 5,
   "id": "3da5abe2",
   "metadata": {},
   "outputs": [
    {
     "name": "stdout",
     "output_type": "stream",
     "text": [
      "                Fields  Requirement  Analysis  Design  Coding Unit Testing  \\\n",
      "0          Requirement           81       NaN     NaN     NaN          NaN   \n",
      "1             Analysis           21      29.0     NaN     NaN          NaN   \n",
      "2               Design           17      17.0   102.0     NaN          NaN   \n",
      "3               Coding           36      19.0    55.0   402.0          NaN   \n",
      "4         Unit Testing           12      35.0     8.0   156.0           51   \n",
      "5  Integration Testing            7      15.0     7.0    27.0            -   \n",
      "6       System Testing           14      39.0     5.0    23.0            -   \n",
      "7                Field            3       2.0     2.0     7.0            -   \n",
      "\n",
      "  Integration Testing System Testing  Field  Index  \n",
      "0                 NaN            NaN    NaN      1  \n",
      "1                 NaN            NaN    NaN      2  \n",
      "2                 NaN            NaN    NaN      3  \n",
      "3                 NaN            NaN    NaN      4  \n",
      "4                 NaN            NaN    NaN      5  \n",
      "5                   3            NaN    NaN      6  \n",
      "6                   -              3    NaN      7  \n",
      "7                   -              -    7.0      8  \n"
     ]
    }
   ],
   "source": [
    "#dataset without NaN values\n",
    "print(df)"
   ]
  },
  {
   "cell_type": "code",
   "execution_count": 6,
   "id": "1c0e4adf",
   "metadata": {},
   "outputs": [],
   "source": [
    "#Making entire Dataset without NaN\n",
    "df=df.fillna(0)\n"
   ]
  },
  {
   "cell_type": "code",
   "execution_count": 7,
   "id": "f923a623",
   "metadata": {},
   "outputs": [
    {
     "name": "stdout",
     "output_type": "stream",
     "text": [
      "                Fields  Requirement  Analysis  Design  Coding Unit Testing  \\\n",
      "0          Requirement           81       0.0     0.0     0.0            0   \n",
      "1             Analysis           21      29.0     0.0     0.0            0   \n",
      "2               Design           17      17.0   102.0     0.0            0   \n",
      "3               Coding           36      19.0    55.0   402.0            0   \n",
      "4         Unit Testing           12      35.0     8.0   156.0           51   \n",
      "5  Integration Testing            7      15.0     7.0    27.0            -   \n",
      "6       System Testing           14      39.0     5.0    23.0            -   \n",
      "7                Field            3       2.0     2.0     7.0            -   \n",
      "\n",
      "  Integration Testing System Testing  Field  Index  \n",
      "0                   0              0    0.0      1  \n",
      "1                   0              0    0.0      2  \n",
      "2                   0              0    0.0      3  \n",
      "3                   0              0    0.0      4  \n",
      "4                   0              0    0.0      5  \n",
      "5                   3              0    0.0      6  \n",
      "6                   -              3    0.0      7  \n",
      "7                   -              -    7.0      8  \n"
     ]
    }
   ],
   "source": [
    "#no NaN values in main Dataset\n",
    "print(df)"
   ]
  },
  {
   "cell_type": "code",
   "execution_count": 8,
   "id": "1d1501f2",
   "metadata": {},
   "outputs": [
    {
     "data": {
      "text/html": [
       "<div>\n",
       "<style scoped>\n",
       "    .dataframe tbody tr th:only-of-type {\n",
       "        vertical-align: middle;\n",
       "    }\n",
       "\n",
       "    .dataframe tbody tr th {\n",
       "        vertical-align: top;\n",
       "    }\n",
       "\n",
       "    .dataframe thead th {\n",
       "        text-align: right;\n",
       "    }\n",
       "</style>\n",
       "<table border=\"1\" class=\"dataframe\">\n",
       "  <thead>\n",
       "    <tr style=\"text-align: right;\">\n",
       "      <th></th>\n",
       "      <th>Fields</th>\n",
       "      <th>Requirement</th>\n",
       "      <th>Analysis</th>\n",
       "      <th>Design</th>\n",
       "      <th>Coding</th>\n",
       "      <th>Unit Testing</th>\n",
       "      <th>Integration Testing</th>\n",
       "      <th>System Testing</th>\n",
       "      <th>Field</th>\n",
       "      <th>Index</th>\n",
       "    </tr>\n",
       "  </thead>\n",
       "  <tbody>\n",
       "    <tr>\n",
       "      <th>0</th>\n",
       "      <td>Requirement</td>\n",
       "      <td>81</td>\n",
       "      <td>0.0</td>\n",
       "      <td>0.0</td>\n",
       "      <td>0.0</td>\n",
       "      <td>0</td>\n",
       "      <td>0</td>\n",
       "      <td>0</td>\n",
       "      <td>0.0</td>\n",
       "      <td>1</td>\n",
       "    </tr>\n",
       "    <tr>\n",
       "      <th>1</th>\n",
       "      <td>Analysis</td>\n",
       "      <td>21</td>\n",
       "      <td>29.0</td>\n",
       "      <td>0.0</td>\n",
       "      <td>0.0</td>\n",
       "      <td>0</td>\n",
       "      <td>0</td>\n",
       "      <td>0</td>\n",
       "      <td>0.0</td>\n",
       "      <td>2</td>\n",
       "    </tr>\n",
       "    <tr>\n",
       "      <th>2</th>\n",
       "      <td>Design</td>\n",
       "      <td>17</td>\n",
       "      <td>17.0</td>\n",
       "      <td>102.0</td>\n",
       "      <td>0.0</td>\n",
       "      <td>0</td>\n",
       "      <td>0</td>\n",
       "      <td>0</td>\n",
       "      <td>0.0</td>\n",
       "      <td>3</td>\n",
       "    </tr>\n",
       "    <tr>\n",
       "      <th>3</th>\n",
       "      <td>Coding</td>\n",
       "      <td>36</td>\n",
       "      <td>19.0</td>\n",
       "      <td>55.0</td>\n",
       "      <td>402.0</td>\n",
       "      <td>0</td>\n",
       "      <td>0</td>\n",
       "      <td>0</td>\n",
       "      <td>0.0</td>\n",
       "      <td>4</td>\n",
       "    </tr>\n",
       "    <tr>\n",
       "      <th>4</th>\n",
       "      <td>Unit Testing</td>\n",
       "      <td>12</td>\n",
       "      <td>35.0</td>\n",
       "      <td>8.0</td>\n",
       "      <td>156.0</td>\n",
       "      <td>51</td>\n",
       "      <td>0</td>\n",
       "      <td>0</td>\n",
       "      <td>0.0</td>\n",
       "      <td>5</td>\n",
       "    </tr>\n",
       "  </tbody>\n",
       "</table>\n",
       "</div>"
      ],
      "text/plain": [
       "         Fields  Requirement  Analysis  Design  Coding Unit Testing  \\\n",
       "0   Requirement           81       0.0     0.0     0.0            0   \n",
       "1      Analysis           21      29.0     0.0     0.0            0   \n",
       "2        Design           17      17.0   102.0     0.0            0   \n",
       "3        Coding           36      19.0    55.0   402.0            0   \n",
       "4  Unit Testing           12      35.0     8.0   156.0           51   \n",
       "\n",
       "  Integration Testing System Testing  Field  Index  \n",
       "0                   0              0    0.0      1  \n",
       "1                   0              0    0.0      2  \n",
       "2                   0              0    0.0      3  \n",
       "3                   0              0    0.0      4  \n",
       "4                   0              0    0.0      5  "
      ]
     },
     "execution_count": 8,
     "metadata": {},
     "output_type": "execute_result"
    }
   ],
   "source": [
    "#First Five columns without NaN Values\n",
    "df.head()"
   ]
  },
  {
   "cell_type": "code",
   "execution_count": 9,
   "id": "f63509ec",
   "metadata": {},
   "outputs": [
    {
     "name": "stdout",
     "output_type": "stream",
     "text": [
      "                Fields  Requirement  Analysis  Design  Coding Unit Testing  \\\n",
      "0          Requirement           81       0.0     0.0     0.0            0   \n",
      "1             Analysis           21      29.0     0.0     0.0            0   \n",
      "2               Design           17      17.0   102.0     0.0            0   \n",
      "3               Coding           36      19.0    55.0   402.0            0   \n",
      "4         Unit Testing           12      35.0     8.0   156.0           51   \n",
      "5  Integration Testing            7      15.0     7.0    27.0            0   \n",
      "6       System Testing           14      39.0     5.0    23.0            0   \n",
      "7                Field            3       2.0     2.0     7.0            0   \n",
      "\n",
      "  Integration Testing System Testing  Field  Index  \n",
      "0                   0              0    0.0      1  \n",
      "1                   0              0    0.0      2  \n",
      "2                   0              0    0.0      3  \n",
      "3                   0              0    0.0      4  \n",
      "4                   0              0    0.0      5  \n",
      "5                   3              0    0.0      6  \n",
      "6                   0              3    0.0      7  \n",
      "7                   0              0    7.0      8  \n"
     ]
    }
   ],
   "source": [
    "#Data Cleaning\n",
    "#Replacing '-' with 0 in Data Set\n",
    "df=df.replace('-',0)\n",
    "print(df)"
   ]
  },
  {
   "cell_type": "code",
   "execution_count": 10,
   "id": "c13ba404",
   "metadata": {},
   "outputs": [],
   "source": [
    "#Taking data into dataframe\n",
    "df_data=df[['Requirement','Analysis','Design','Coding','Unit Testing','Integration Testing','System Testing','Field']]\n",
    "\n"
   ]
  },
  {
   "cell_type": "code",
   "execution_count": 11,
   "id": "4a03a330",
   "metadata": {},
   "outputs": [
    {
     "name": "stdout",
     "output_type": "stream",
     "text": [
      "   Requirement  Analysis  Design  Coding Unit Testing Integration Testing  \\\n",
      "0           81       0.0     0.0     0.0            0                   0   \n",
      "1           21      29.0     0.0     0.0            0                   0   \n",
      "2           17      17.0   102.0     0.0            0                   0   \n",
      "3           36      19.0    55.0   402.0            0                   0   \n",
      "4           12      35.0     8.0   156.0           51                   0   \n",
      "5            7      15.0     7.0    27.0            0                   3   \n",
      "6           14      39.0     5.0    23.0            0                   0   \n",
      "7            3       2.0     2.0     7.0            0                   0   \n",
      "\n",
      "  System Testing  Field  \n",
      "0              0    0.0  \n",
      "1              0    0.0  \n",
      "2              0    0.0  \n",
      "3              0    0.0  \n",
      "4              0    0.0  \n",
      "5              0    0.0  \n",
      "6              3    0.0  \n",
      "7              0    7.0  \n"
     ]
    }
   ],
   "source": [
    "print(df_data)"
   ]
  },
  {
   "cell_type": "code",
   "execution_count": 12,
   "id": "4613880d",
   "metadata": {},
   "outputs": [],
   "source": [
    "#converting dataframe with data to int type\n",
    "df_data=df_data.astype(int)\n",
    "#creating a dictionary to match the matrix\n",
    "matrix={'Requirement':0,\n",
    "'Analysis':1,\n",
    "'Design':2,\n",
    "'Coding':3,\n",
    "'Unit Testing':4,\n",
    "'Integration Testing':5,\n",
    "'System Testing':6,\n",
    "'Field':7}\n"
   ]
  },
  {
   "cell_type": "code",
   "execution_count": 13,
   "id": "71f9f340",
   "metadata": {},
   "outputs": [],
   "source": [
    "#Creating a dataframe for total defects found\n",
    "df_total_Defects=df_data.sum(axis=1,numeric_only=True)\n",
    "df_TD=DataFrame(df_total_Defects)\n",
    "df_TD['Index']=matrix\n"
   ]
  },
  {
   "cell_type": "code",
   "execution_count": 14,
   "id": "7574cf1c",
   "metadata": {},
   "outputs": [
    {
     "name": "stdout",
     "output_type": "stream",
     "text": [
      "     0                Index\n",
      "0   81          Requirement\n",
      "1   50             Analysis\n",
      "2  136               Design\n",
      "3  512               Coding\n",
      "4  262         Unit Testing\n",
      "5   59  Integration Testing\n",
      "6   84       System Testing\n",
      "7   21                Field\n"
     ]
    }
   ],
   "source": [
    "print(df_TD)"
   ]
  },
  {
   "cell_type": "code",
   "execution_count": 15,
   "id": "d85acf52",
   "metadata": {},
   "outputs": [],
   "source": [
    "#print(df_total_Defects)"
   ]
  },
  {
   "cell_type": "code",
   "execution_count": 16,
   "id": "7adb211c",
   "metadata": {},
   "outputs": [],
   "source": [
    "#To find total number of Defects injected and Defects Found\n",
    "df_TD_sum=df_total_Defects.sum()"
   ]
  },
  {
   "cell_type": "code",
   "execution_count": 17,
   "id": "23756bb8",
   "metadata": {},
   "outputs": [
    {
     "name": "stdout",
     "output_type": "stream",
     "text": [
      "Total Number of Defects Injected and Found = 1205\n"
     ]
    }
   ],
   "source": [
    "print('Total Number of Defects Injected and Found ='+' '+ df_TD_sum.astype(str))"
   ]
  },
  {
   "cell_type": "code",
   "execution_count": 18,
   "id": "6c0d5745",
   "metadata": {},
   "outputs": [],
   "source": [
    "#Creating a dataframe for total defects injected\n",
    "df_Injected_Defects=df[['Requirement','Analysis','Design','Coding','Unit Testing','Integration Testing','System Testing','Field']].astype(int).sum()\n",
    "df_ID=DataFrame(df_Injected_Defects)"
   ]
  },
  {
   "cell_type": "code",
   "execution_count": 19,
   "id": "76f958c5",
   "metadata": {},
   "outputs": [
    {
     "name": "stdout",
     "output_type": "stream",
     "text": [
      "                       0\n",
      "Requirement          191\n",
      "Analysis             156\n",
      "Design               179\n",
      "Coding               615\n",
      "Unit Testing          51\n",
      "Integration Testing    3\n",
      "System Testing         3\n",
      "Field                  7\n"
     ]
    }
   ],
   "source": [
    "print(df_ID)"
   ]
  },
  {
   "cell_type": "code",
   "execution_count": 20,
   "id": "d48d623d",
   "metadata": {
    "scrolled": true
   },
   "outputs": [
    {
     "name": "stdout",
     "output_type": "stream",
     "text": [
      "                       0                Index\n",
      "Requirement          191          Requirement\n",
      "Analysis             156             Analysis\n",
      "Design               179               Design\n",
      "Coding               615               Coding\n",
      "Unit Testing          51         Unit Testing\n",
      "Integration Testing    3  Integration Testing\n",
      "System Testing         3       System Testing\n",
      "Field                  7                Field\n"
     ]
    }
   ],
   "source": [
    "df_ID['Index']=matrix\n",
    "print(df_ID)"
   ]
  },
  {
   "cell_type": "code",
   "execution_count": 21,
   "id": "59615c47",
   "metadata": {},
   "outputs": [
    {
     "name": "stdout",
     "output_type": "stream",
     "text": [
      "Total Defects found for Every Phase:\n",
      "Requirement 81\n",
      "Analysis 50\n",
      "Design 136\n",
      "Coding 512\n",
      "Unit Testing 262\n",
      "Integration Testing 59\n",
      "System Testing 84\n",
      "Field 21\n"
     ]
    }
   ],
   "source": [
    "#Total Defects found for Every Phase\n",
    "print('Total Defects found for Every Phase:')\n",
    "for i in range(0, len(df_TD)):\n",
    "    print(df_TD.iloc[i]['Index']+ ' '+df_TD.iloc[i][0].astype(str))"
   ]
  },
  {
   "cell_type": "code",
   "execution_count": 22,
   "id": "8c2a8813",
   "metadata": {},
   "outputs": [
    {
     "name": "stdout",
     "output_type": "stream",
     "text": [
      "Total Defects Injected for Every Phase:\n",
      "Requirement 191\n",
      "Analysis 156\n",
      "Design 179\n",
      "Coding 615\n",
      "Unit Testing 51\n",
      "Integration Testing 3\n",
      "System Testing 3\n",
      "Field 7\n"
     ]
    }
   ],
   "source": [
    "#Total Defects Injected for Every Phase\n",
    "print('Total Defects Injected for Every Phase:')\n",
    "for i in range(0, len(df_ID)):\n",
    "    print(df_ID.iloc[i]['Index']+ ' '+df_ID.iloc[i][0].astype(str))"
   ]
  },
  {
   "cell_type": "code",
   "execution_count": 23,
   "id": "d9f7b988",
   "metadata": {},
   "outputs": [],
   "source": [
    "#merging two dataframes to form a dataset\n",
    "all_cols = pd.merge(df_TD,df_ID,on='Index')\n",
    "df_all = DataFrame(all_cols)"
   ]
  },
  {
   "cell_type": "code",
   "execution_count": 24,
   "id": "74ab7ba6",
   "metadata": {},
   "outputs": [
    {
     "name": "stdout",
     "output_type": "stream",
     "text": [
      "   0_x                Index  0_y  prev  prev_id\n",
      "0   81          Requirement  191     0        0\n",
      "1   50             Analysis  156    81      191\n",
      "2  136               Design  179   131      347\n",
      "3  512               Coding  615   267      526\n",
      "4  262         Unit Testing   51   779     1141\n",
      "5   59  Integration Testing    3  1041     1192\n",
      "6   84       System Testing    3  1100     1195\n",
      "7   21                Field    7  1184     1198\n"
     ]
    }
   ],
   "source": [
    "prev_dd=[] #to store previous Defects Detected\n",
    "prev_id=[] #to store previous Defects Injected\n",
    "\n",
    "for i in range(0, len(df_all)):\n",
    "    pre_phases_dd=0\n",
    "    pre_phases_id=0\n",
    "    for j in range(0, len(df_all)):\n",
    "        if(j<i):\n",
    "            #cur_phase_dd\n",
    "            pre_phases_dd=pre_phases_dd+df_all.iloc[j]['0_x']\n",
    "            pre_phases_id=pre_phases_id+df_all.iloc[j]['0_y']\n",
    "            #cur_inj_dd\n",
    "   \n",
    "    prev_dd.append(pre_phases_dd)\n",
    "    prev_id.append(pre_phases_id)\n",
    "    #print(prev_dd)\n",
    "df_all['prev']=prev_dd\n",
    "df_all['prev_id']=prev_id\n",
    "\n",
    "print(df_all)\n",
    "            \n",
    "    "
   ]
  },
  {
   "cell_type": "code",
   "execution_count": 25,
   "id": "69ac29d6",
   "metadata": {},
   "outputs": [],
   "source": [
    "test_dd=[]\n",
    "for i in range(0, len(df_all)):\n",
    "    subsequent_phases=0\n",
    "    for j in range(0, len(df_all)):\n",
    "        if(j>i):\n",
    "            subsequent_phases=subsequent_phases+df_all.iloc[j]['0_x']\n",
    "    test_dd.append(subsequent_phases)\n",
    "    #print(prev_dd)\n",
    "df_all['subsequent defects']=test_dd"
   ]
  },
  {
   "cell_type": "code",
   "execution_count": 26,
   "id": "19fb21e3",
   "metadata": {},
   "outputs": [
    {
     "name": "stdout",
     "output_type": "stream",
     "text": [
      "   Total Defects found                Index  Total Defects Injected  prev  \\\n",
      "0                   81          Requirement                     191     0   \n",
      "1                   50             Analysis                     156    81   \n",
      "2                  136               Design                     179   131   \n",
      "3                  512               Coding                     615   267   \n",
      "4                  262         Unit Testing                      51   779   \n",
      "5                   59  Integration Testing                       3  1041   \n",
      "6                   84       System Testing                       3  1100   \n",
      "7                   21                Field                       7  1184   \n",
      "\n",
      "   prev_id  subsequent defects  \n",
      "0        0                1124  \n",
      "1      191                1074  \n",
      "2      347                 938  \n",
      "3      526                 426  \n",
      "4     1141                 164  \n",
      "5     1192                 105  \n",
      "6     1195                  21  \n",
      "7     1198                   0  \n"
     ]
    }
   ],
   "source": [
    "#Actual Dataset to caluclate Defect Removal Effectiveness\n",
    "df_all.columns = df_all.columns.str.replace('0_x', 'Total Defects found')\n",
    "df_all.columns = df_all.columns.str.replace('0_y', 'Total Defects Injected')\n",
    "\n",
    "print(df_all)"
   ]
  },
  {
   "cell_type": "code",
   "execution_count": 27,
   "id": "2bdd3bcd",
   "metadata": {},
   "outputs": [],
   "source": [
    "#function to calculate Defect Removal Effectiveness for Every Phase\n",
    "def dre_phase():\n",
    "    print('**********The Defect Removal Effectiveness for every phase************************')\n",
    "    for i in range(0, len(df_all)):\n",
    "        dre=round(df_all.iloc[i]['Total Defects found']/((df_all.iloc[i]['Total Defects Injected']+df_all.iloc[i]['prev_id']-df_all.iloc[i]['prev']))*100,2)\n",
    "        print(df_all.iloc[i]['Index']+'    '+dre.astype(str)+'%')\n",
    "        if(df_all.iloc[i]['Index'] in ['Unit Testing','Integration Testing','System Testing']):\n",
    "            dre_test=round(df_all.iloc[i]['Total Defects found']/((df_all.iloc[i]['Total Defects found']+df_all.iloc[i]['subsequent defects']))*100,2)\n",
    "            print(df_all.iloc[i]['Index']+' using alternate Jones formula '+dre_test.astype(str)+'%')   \n",
    "    "
   ]
  },
  {
   "cell_type": "code",
   "execution_count": 28,
   "id": "7e713144",
   "metadata": {},
   "outputs": [
    {
     "name": "stdout",
     "output_type": "stream",
     "text": [
      "**********The Defect Removal Effectiveness for every phase************************\n",
      "Requirement    42.41%\n",
      "Analysis    18.8%\n",
      "Design    34.43%\n",
      "Coding    58.58%\n",
      "Unit Testing    63.44%\n",
      "Unit Testing using alternate Jones formula 61.5%\n",
      "Integration Testing    38.31%\n",
      "Integration Testing using alternate Jones formula 35.98%\n",
      "System Testing    85.71%\n",
      "System Testing using alternate Jones formula 80.0%\n",
      "Field    100.0%\n"
     ]
    }
   ],
   "source": [
    "dre_phase()"
   ]
  },
  {
   "cell_type": "code",
   "execution_count": 29,
   "id": "3fd71c66",
   "metadata": {},
   "outputs": [],
   "source": [
    "#function to calculate Overall Defect Removal Effectivness for the entire process\n",
    "def overall_dre():\n",
    "    print('The Overall Defect Removal Effectivness for the entire process')\n",
    "    for i in range(0, len(df_all)):\n",
    "        if(df_all.iloc[i]['Index']=='Field'):\n",
    "            \n",
    "            ova_dre=round((df_all.iloc[i]['prev']/df_TD_sum)*100,2)\n",
    "    print(ova_dre.astype(str)+'%')\n",
    "    \n",
    "    "
   ]
  },
  {
   "cell_type": "code",
   "execution_count": 30,
   "id": "803f576b",
   "metadata": {},
   "outputs": [
    {
     "name": "stdout",
     "output_type": "stream",
     "text": [
      "The Overall Defect Removal Effectivness for the entire process\n",
      "98.26%\n"
     ]
    }
   ],
   "source": [
    "overall_dre()"
   ]
  },
  {
   "cell_type": "code",
   "execution_count": 31,
   "id": "980781af",
   "metadata": {},
   "outputs": [
    {
     "name": "stderr",
     "output_type": "stream",
     "text": [
      "C:\\Users\\Suraj\\AppData\\Local\\Temp\\ipykernel_14564\\641243147.py:3: SettingWithCopyWarning: \n",
      "A value is trying to be set on a copy of a slice from a DataFrame.\n",
      "Try using .loc[row_indexer,col_indexer] = value instead\n",
      "\n",
      "See the caveats in the documentation: https://pandas.pydata.org/pandas-docs/stable/user_guide/indexing.html#returning-a-view-versus-a-copy\n",
      "  df_graph['Unit Testing']=df_graph['Unit Testing'].astype(int).astype(float)\n",
      "C:\\Users\\Suraj\\AppData\\Local\\Temp\\ipykernel_14564\\641243147.py:4: SettingWithCopyWarning: \n",
      "A value is trying to be set on a copy of a slice from a DataFrame.\n",
      "Try using .loc[row_indexer,col_indexer] = value instead\n",
      "\n",
      "See the caveats in the documentation: https://pandas.pydata.org/pandas-docs/stable/user_guide/indexing.html#returning-a-view-versus-a-copy\n",
      "  df_graph['Integration Testing']=df_graph['Integration Testing'].astype(int).astype(float)\n",
      "C:\\Users\\Suraj\\AppData\\Local\\Temp\\ipykernel_14564\\641243147.py:5: SettingWithCopyWarning: \n",
      "A value is trying to be set on a copy of a slice from a DataFrame.\n",
      "Try using .loc[row_indexer,col_indexer] = value instead\n",
      "\n",
      "See the caveats in the documentation: https://pandas.pydata.org/pandas-docs/stable/user_guide/indexing.html#returning-a-view-versus-a-copy\n",
      "  df_graph['System Testing']=df_graph['System Testing'].astype(int).astype(float)\n"
     ]
    }
   ],
   "source": [
    "#taking dataframe to plot the graph\n",
    "df_graph=df[['Fields','Requirement','Analysis','Design','Coding','Unit Testing','Integration Testing','System Testing','Field']]\n",
    "df_graph['Unit Testing']=df_graph['Unit Testing'].astype(int).astype(float)\n",
    "df_graph['Integration Testing']=df_graph['Integration Testing'].astype(int).astype(float)\n",
    "df_graph['System Testing']=df_graph['System Testing'].astype(int).astype(float)\n",
    "#******************************ignore the warning*****************************"
   ]
  },
  {
   "cell_type": "code",
   "execution_count": 32,
   "id": "04e30455",
   "metadata": {},
   "outputs": [
    {
     "data": {
      "image/png": "[encoded data removed]",
      "text/plain": [
       "<Figure size 432x288 with 1 Axes>"
      ]
     },
     "metadata": {
      "needs_background": "light"
     },
     "output_type": "display_data"
    }
   ],
   "source": [
    "#graph for matrix\n",
    "graph_for_defectsinjected_defectsdetected = df_graph.plot(x=\"Fields\", y=['Requirement','Analysis','Design','Coding','Unit Testing',\"Integration Testing\",'System Testing','Field'], kind=\"bar\",stacked=True,color=['green','orange', 'blue', 'black', 'violet','pink','yellow','red'], grid=False)"
   ]
  },
  {
   "cell_type": "code",
   "execution_count": null,
   "id": "3c3174ac",
   "metadata": {},
   "outputs": [],
   "source": []
  }
 ],
 "metadata": {
  "kernelspec": {
   "display_name": "Python 3 (ipykernel)",
   "language": "python",
   "name": "python3"
  },
  "language_info": {
   "codemirror_mode": {
    "name": "ipython",
    "version": 3
   },
   "file_extension": ".py",
   "mimetype": "text/x-python",
   "name": "python",
   "nbconvert_exporter": "python",
   "pygments_lexer": "ipython3",
   "version": "3.9.12"
  }
 },
 "nbformat": 4,
 "nbformat_minor": 5
}
